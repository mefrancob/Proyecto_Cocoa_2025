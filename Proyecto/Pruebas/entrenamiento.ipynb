{
 "cells": [
  {
   "cell_type": "code",
   "execution_count": 16,
   "metadata": {},
   "outputs": [
    {
     "name": "stdout",
     "output_type": "stream",
     "text": [
      "Requirement already satisfied: torch in c:\\users\\melis\\anaconda3\\lib\\site-packages (2.6.0)\n",
      "Requirement already satisfied: torchvision in c:\\users\\melis\\anaconda3\\lib\\site-packages (0.21.0)\n",
      "Requirement already satisfied: matplotlib in c:\\users\\melis\\anaconda3\\lib\\site-packages (3.7.2)\n",
      "Requirement already satisfied: pandas in c:\\users\\melis\\anaconda3\\lib\\site-packages (2.0.3)\n",
      "Requirement already satisfied: opencv-python in c:\\users\\melis\\anaconda3\\lib\\site-packages (4.10.0.84)\n",
      "Requirement already satisfied: tqdm in c:\\users\\melis\\anaconda3\\lib\\site-packages (4.65.0)\n",
      "Requirement already satisfied: filelock in c:\\users\\melis\\anaconda3\\lib\\site-packages (from torch) (3.9.0)\n",
      "Requirement already satisfied: typing-extensions>=4.10.0 in c:\\users\\melis\\anaconda3\\lib\\site-packages (from torch) (4.12.2)\n",
      "Requirement already satisfied: networkx in c:\\users\\melis\\anaconda3\\lib\\site-packages (from torch) (3.1)\n",
      "Requirement already satisfied: jinja2 in c:\\users\\melis\\anaconda3\\lib\\site-packages (from torch) (3.1.2)\n",
      "Requirement already satisfied: fsspec in c:\\users\\melis\\anaconda3\\lib\\site-packages (from torch) (2023.4.0)\n",
      "Requirement already satisfied: sympy==1.13.1 in c:\\users\\melis\\anaconda3\\lib\\site-packages (from torch) (1.13.1)\n",
      "Requirement already satisfied: mpmath<1.4,>=1.1.0 in c:\\users\\melis\\anaconda3\\lib\\site-packages (from sympy==1.13.1->torch) (1.3.0)\n",
      "Requirement already satisfied: numpy in c:\\users\\melis\\anaconda3\\lib\\site-packages (from torchvision) (1.24.3)\n",
      "Requirement already satisfied: pillow!=8.3.*,>=5.3.0 in c:\\users\\melis\\anaconda3\\lib\\site-packages (from torchvision) (10.3.0)\n",
      "Requirement already satisfied: contourpy>=1.0.1 in c:\\users\\melis\\anaconda3\\lib\\site-packages (from matplotlib) (1.0.5)\n",
      "Requirement already satisfied: cycler>=0.10 in c:\\users\\melis\\anaconda3\\lib\\site-packages (from matplotlib) (0.11.0)\n",
      "Requirement already satisfied: fonttools>=4.22.0 in c:\\users\\melis\\anaconda3\\lib\\site-packages (from matplotlib) (4.25.0)\n",
      "Requirement already satisfied: kiwisolver>=1.0.1 in c:\\users\\melis\\anaconda3\\lib\\site-packages (from matplotlib) (1.4.4)\n",
      "Requirement already satisfied: packaging>=20.0 in c:\\users\\melis\\anaconda3\\lib\\site-packages (from matplotlib) (23.1)\n",
      "Requirement already satisfied: pyparsing<3.1,>=2.3.1 in c:\\users\\melis\\anaconda3\\lib\\site-packages (from matplotlib) (3.0.9)\n",
      "Requirement already satisfied: python-dateutil>=2.7 in c:\\users\\melis\\anaconda3\\lib\\site-packages (from matplotlib) (2.8.2)\n",
      "Requirement already satisfied: pytz>=2020.1 in c:\\users\\melis\\anaconda3\\lib\\site-packages (from pandas) (2023.3.post1)\n",
      "Requirement already satisfied: tzdata>=2022.1 in c:\\users\\melis\\anaconda3\\lib\\site-packages (from pandas) (2023.3)\n",
      "Requirement already satisfied: colorama in c:\\users\\melis\\anaconda3\\lib\\site-packages (from tqdm) (0.4.6)\n",
      "Requirement already satisfied: six>=1.5 in c:\\users\\melis\\anaconda3\\lib\\site-packages (from python-dateutil>=2.7->matplotlib) (1.16.0)\n",
      "Requirement already satisfied: MarkupSafe>=2.0 in c:\\users\\melis\\anaconda3\\lib\\site-packages (from jinja2->torch) (2.1.1)\n",
      "Note: you may need to restart the kernel to use updated packages.\n"
     ]
    }
   ],
   "source": [
    "%pip install torch torchvision matplotlib pandas opencv-python tqdm\n"
   ]
  },
  {
   "cell_type": "code",
   "execution_count": 17,
   "metadata": {},
   "outputs": [],
   "source": [
    "import torch\n",
    "import torchvision\n",
    "import torchvision.transforms as transforms\n",
    "from torchvision import datasets, models\n",
    "import torch.nn as nn\n",
    "import torch.optim as optim\n",
    "import os\n",
    "import matplotlib.pyplot as plt\n",
    "from tqdm import tqdm\n"
   ]
  },
  {
   "cell_type": "code",
   "execution_count": 18,
   "metadata": {},
   "outputs": [],
   "source": [
    "import os\n",
    "import json\n",
    "import pandas as pd\n",
    "import numpy as np\n",
    "from PIL import Image\n",
    "\n",
    "def load_custom_dataset(base_path, folder_names):\n",
    "    \"\"\"\n",
    "    Carga datasets COCO desde la estructura específica de carpetas.\n",
    "    \n",
    "    Parameters:\n",
    "    base_path (str): Ruta base (RipSetCocoaCNCH12/RipSetCocoaCNCH12/COCO_10)\n",
    "    folder_names (list): Lista de nombres de carpetas (images_C1, images_C2, etc.)\n",
    "    \n",
    "    Returns:\n",
    "    pandas.DataFrame: DataFrame consolidado con toda la información\n",
    "    \"\"\"\n",
    "    all_image_data = []\n",
    "    \n",
    "    # Imprimir las rutas para debug\n",
    "    print(f\"Ruta base: {base_path}\")\n",
    "    print(\"Carpetas a procesar:\", folder_names)\n",
    "    \n",
    "    for folder_name in folder_names:\n",
    "        # Construir rutas\n",
    "        images_path = os.path.join(base_path, folder_name)\n",
    "        annotation_path = os.path.join(base_path, f'{folder_name}.json')\n",
    "        \n",
    "        print(f\"\\nProcesando carpeta: {folder_name}\")\n",
    "        print(f\"Ruta de imágenes: {images_path}\")\n",
    "        print(f\"Ruta de anotaciones: {annotation_path}\")\n",
    "        \n",
    "        try:\n",
    "            # Verificar si el archivo JSON existe\n",
    "            if not os.path.exists(annotation_path):\n",
    "                print(f\"¡Advertencia! No se encontró el archivo: {annotation_path}\")\n",
    "                continue\n",
    "                \n",
    "            # Cargar archivo JSON\n",
    "            with open(annotation_path, 'r') as f:\n",
    "                coco_data = json.load(f)\n",
    "            \n",
    "            print(f\"JSON cargado exitosamente para {folder_name}\")\n",
    "            \n",
    "            # Crear diccionario de categorías\n",
    "            categories = {cat['id']: cat['name'] for cat in coco_data['categories']}\n",
    "            \n",
    "            # Crear diccionario de imágenes\n",
    "            images = {img['id']: img for img in coco_data['images']}\n",
    "            \n",
    "            # Organizar anotaciones por imagen\n",
    "            image_annotations = {}\n",
    "            for ann in coco_data['annotations']:\n",
    "                img_id = ann['image_id']\n",
    "                if img_id not in image_annotations:\n",
    "                    image_annotations[img_id] = set()\n",
    "                image_annotations[img_id].add(categories[ann['category_id']])\n",
    "            \n",
    "            # Obtener el número de clase del nombre de la carpeta\n",
    "            class_number = int(folder_name.split('_C')[1])\n",
    "            \n",
    "            # Preparar datos para el DataFrame\n",
    "            for img_id, annotations in image_annotations.items():\n",
    "                img_info = images[img_id]\n",
    "                image_entry = {\n",
    "                    'image_id': img_id,\n",
    "                    'file_name': img_info['file_name'],\n",
    "                    'path': os.path.join(images_path, img_info['file_name']),\n",
    "                    'width': img_info.get('width', None),\n",
    "                    'height': img_info.get('height', None),\n",
    "                    'categories': list(annotations),\n",
    "                    'class_name': folder_name,  # Guardamos el nombre de la carpeta\n",
    "                    'class_number': class_number  # Guardamos el número de clase\n",
    "                }\n",
    "                all_image_data.append(image_entry)\n",
    "            \n",
    "            print(f\"Procesadas {len(image_annotations)} imágenes de {folder_name}\")\n",
    "                \n",
    "        except Exception as e:\n",
    "            print(f\"Error procesando {folder_name}: {str(e)}\")\n",
    "    \n",
    "    # Crear DataFrame consolidado\n",
    "    if not all_image_data:\n",
    "        raise ValueError(\"No se encontraron datos en ninguna carpeta\")\n",
    "    \n",
    "    df = pd.DataFrame(all_image_data)\n",
    "    return df\n"
   ]
  },
  {
   "cell_type": "code",
   "execution_count": 19,
   "metadata": {},
   "outputs": [],
   "source": [
    "def create_train_val_test_split(df, val_size=0.15, test_size=0.15, seed=42):\n",
    "    \"\"\"\n",
    "    Crea splits estratificados manteniendo la distribución de clases.\n",
    "    \"\"\"\n",
    "    np.random.seed(seed)\n",
    "    \n",
    "    train_data, val_data, test_data = [], [], []\n",
    "    \n",
    "    # Procesar por clase\n",
    "    for class_name in df['class_name'].unique():\n",
    "        class_data = df[df['class_name'] == class_name]\n",
    "        \n",
    "        # Calcular tamaños\n",
    "        n_samples = len(class_data)\n",
    "        n_test = int(n_samples * test_size)\n",
    "        n_val = int(n_samples * val_size)\n",
    "        \n",
    "        # Dividir los datos\n",
    "        shuffled = class_data.sample(frac=1, random_state=seed)\n",
    "        train_data.append(shuffled[:(n_samples-n_test-n_val)])\n",
    "        val_data.append(shuffled[(n_samples-n_test-n_val):(n_samples-n_test)])\n",
    "        test_data.append(shuffled[(n_samples-n_test):])\n",
    "    \n",
    "    # Combinar los datos\n",
    "    train_df = pd.concat(train_data).reset_index(drop=True)\n",
    "    val_df = pd.concat(val_data).reset_index(drop=True)\n",
    "    test_df = pd.concat(test_data).reset_index(drop=True)\n",
    "    \n",
    "    return train_df, val_df, test_df\n",
    "\n",
    "def verify_dataset(df):\n",
    "    \"\"\"\n",
    "    Verifica la integridad del dataset.\n",
    "    \"\"\"\n",
    "    verification = {\n",
    "        'total_images': len(df),\n",
    "        'images_per_class': df['class_name'].value_counts().to_dict(),\n",
    "        'missing_images': [],\n",
    "        'categories_per_class': {}\n",
    "    }\n",
    "    \n",
    "    # Verificar que las imágenes existen\n",
    "    for idx, row in df.iterrows():\n",
    "        if not os.path.exists(row['path']):\n",
    "            verification['missing_images'].append(row['path'])\n",
    "    \n",
    "    # Analizar categorías por clase\n",
    "    for class_name in df['class_name'].unique():\n",
    "        class_data = df[df['class_name'] == class_name]\n",
    "        categories = [cat for cats in class_data['categories'] for cat in cats]\n",
    "        verification['categories_per_class'][class_name] = pd.Series(categories).value_counts().to_dict()\n",
    "    \n",
    "    return verification"
   ]
  },
  {
   "cell_type": "code",
   "execution_count": 20,
   "metadata": {},
   "outputs": [],
   "source": [
    "def create_train_val_test_split(df, val_size=0.15, test_size=0.15, seed=42):\n",
    "    \"\"\"\n",
    "    Crea splits estratificados manteniendo la distribución de clases.\n",
    "    \"\"\"\n",
    "    np.random.seed(seed)\n",
    "    \n",
    "    train_data, val_data, test_data = [], [], []\n",
    "    \n",
    "    # Procesar por clase\n",
    "    for class_name in df['class_name'].unique():\n",
    "        class_data = df[df['class_name'] == class_name]\n",
    "        \n",
    "        # Calcular tamaños\n",
    "        n_samples = len(class_data)\n",
    "        n_test = int(n_samples * test_size)\n",
    "        n_val = int(n_samples * val_size)\n",
    "        \n",
    "        # Dividir los datos\n",
    "        shuffled = class_data.sample(frac=1, random_state=seed)\n",
    "        train_data.append(shuffled[:(n_samples-n_test-n_val)])\n",
    "        val_data.append(shuffled[(n_samples-n_test-n_val):(n_samples-n_test)])\n",
    "        test_data.append(shuffled[(n_samples-n_test):])\n",
    "    \n",
    "    # Combinar los datos\n",
    "    train_df = pd.concat(train_data).reset_index(drop=True)\n",
    "    val_df = pd.concat(val_data).reset_index(drop=True)\n",
    "    test_df = pd.concat(test_data).reset_index(drop=True)\n",
    "    \n",
    "    return train_df, val_df, test_df\n",
    "\n",
    "def verify_dataset(df):\n",
    "    \"\"\"\n",
    "    Verifica la integridad del dataset.\n",
    "    \"\"\"\n",
    "    verification = {\n",
    "        'total_images': len(df),\n",
    "        'images_per_class': df['class_name'].value_counts().to_dict(),\n",
    "        'missing_images': [],\n",
    "        'categories_per_class': {}\n",
    "    }\n",
    "    \n",
    "    # Verificar que las imágenes existen\n",
    "    for idx, row in df.iterrows():\n",
    "        if not os.path.exists(row['path']):\n",
    "            verification['missing_images'].append(row['path'])\n",
    "    \n",
    "    # Analizar categorías por clase\n",
    "    for class_name in df['class_name'].unique():\n",
    "        class_data = df[df['class_name'] == class_name]\n",
    "        categories = [cat for cats in class_data['categories'] for cat in cats]\n",
    "        verification['categories_per_class'][class_name] = pd.Series(categories).value_counts().to_dict()\n",
    "    \n",
    "    return verification"
   ]
  },
  {
   "cell_type": "code",
   "execution_count": 21,
   "metadata": {},
   "outputs": [
    {
     "name": "stdout",
     "output_type": "stream",
     "text": [
      "Ruta base: C:\\Users\\melis\\Desktop\\Proyecto_Cocoa\\RipSetCocoaCNCH12\\RipSetCocoaCNCH12\\COCO_10\n",
      "Carpetas a procesar: ['images_C1', 'images_C2', 'images_C3', 'images_C4']\n",
      "\n",
      "Procesando carpeta: images_C1\n",
      "Ruta de imágenes: C:\\Users\\melis\\Desktop\\Proyecto_Cocoa\\RipSetCocoaCNCH12\\RipSetCocoaCNCH12\\COCO_10\\images_C1\n",
      "Ruta de anotaciones: C:\\Users\\melis\\Desktop\\Proyecto_Cocoa\\RipSetCocoaCNCH12\\RipSetCocoaCNCH12\\COCO_10\\images_C1.json\n",
      "JSON cargado exitosamente para images_C1\n",
      "Procesadas 999 imágenes de images_C1\n",
      "\n",
      "Procesando carpeta: images_C2\n",
      "Ruta de imágenes: C:\\Users\\melis\\Desktop\\Proyecto_Cocoa\\RipSetCocoaCNCH12\\RipSetCocoaCNCH12\\COCO_10\\images_C2\n",
      "Ruta de anotaciones: C:\\Users\\melis\\Desktop\\Proyecto_Cocoa\\RipSetCocoaCNCH12\\RipSetCocoaCNCH12\\COCO_10\\images_C2.json\n",
      "JSON cargado exitosamente para images_C2\n",
      "Procesadas 1000 imágenes de images_C2\n",
      "\n",
      "Procesando carpeta: images_C3\n",
      "Ruta de imágenes: C:\\Users\\melis\\Desktop\\Proyecto_Cocoa\\RipSetCocoaCNCH12\\RipSetCocoaCNCH12\\COCO_10\\images_C3\n",
      "Ruta de anotaciones: C:\\Users\\melis\\Desktop\\Proyecto_Cocoa\\RipSetCocoaCNCH12\\RipSetCocoaCNCH12\\COCO_10\\images_C3.json\n",
      "JSON cargado exitosamente para images_C3\n",
      "Procesadas 1000 imágenes de images_C3\n",
      "\n",
      "Procesando carpeta: images_C4\n",
      "Ruta de imágenes: C:\\Users\\melis\\Desktop\\Proyecto_Cocoa\\RipSetCocoaCNCH12\\RipSetCocoaCNCH12\\COCO_10\\images_C4\n",
      "Ruta de anotaciones: C:\\Users\\melis\\Desktop\\Proyecto_Cocoa\\RipSetCocoaCNCH12\\RipSetCocoaCNCH12\\COCO_10\\images_C4.json\n",
      "JSON cargado exitosamente para images_C4\n",
      "Procesadas 990 imágenes de images_C4\n",
      "\n",
      "Estadísticas del dataset:\n",
      "Total de imágenes: 3989\n",
      "\n",
      "Imágenes por clase:\n",
      "images_C2: 1000\n",
      "images_C3: 1000\n",
      "images_C1: 999\n",
      "images_C4: 990\n",
      "\n",
      "Distribución final:\n",
      "Train: 2795 imágenes\n",
      "Validación: 597 imágenes\n",
      "Test: 597 imágenes\n"
     ]
    }
   ],
   "source": [
    "# 1. Definir las rutas\n",
    "ruta_1 = 'C:\\\\Users\\\\melis\\\\Desktop\\\\Proyecto_Cocoa\\\\RipSetCocoaCNCH12\\\\RipSetCocoaCNCH12\\\\COCO_10'\n",
    "ruta_2 = ['images_C1', 'images_C2', 'images_C3', 'images_C4']\n",
    "\n",
    "# 2. Cargar el dataset\n",
    "try:\n",
    "    df = load_custom_dataset(ruta_1, ruta_2)\n",
    "    \n",
    "    # 3. Verificar la integridad del dataset\n",
    "    verification = verify_dataset(df)\n",
    "    print(\"\\nEstadísticas del dataset:\")\n",
    "    print(f\"Total de imágenes: {verification['total_images']}\")\n",
    "    print(\"\\nImágenes por clase:\")\n",
    "    for class_name, count in verification['images_per_class'].items():\n",
    "        print(f\"{class_name}: {count}\")\n",
    "\n",
    "    if verification['missing_images']:\n",
    "        print(\"\\n¡Advertencia! Imágenes faltantes:\", len(verification['missing_images']))\n",
    "\n",
    "    # 4. Crear los splits\n",
    "    train_df, val_df, test_df = create_train_val_test_split(df)\n",
    "\n",
    "    # 5. Ver distribución final\n",
    "    print(\"\\nDistribución final:\")\n",
    "    print(f\"Train: {len(train_df)} imágenes\")\n",
    "    print(f\"Validación: {len(val_df)} imágenes\")\n",
    "    print(f\"Test: {len(test_df)} imágenes\")\n",
    "\n",
    "except Exception as e:\n",
    "    print(f\"Error en el proceso: {str(e)}\")"
   ]
  },
  {
   "cell_type": "code",
   "execution_count": 22,
   "metadata": {},
   "outputs": [
    {
     "name": "stdout",
     "output_type": "stream",
     "text": [
      "DataLoaders listos: 88 batches de entrenamiento\n"
     ]
    }
   ],
   "source": [
    "from torch.utils.data import Dataset, DataLoader\n",
    "from PIL import Image\n",
    "import json\n",
    "import torch\n",
    "import torchvision.transforms as transforms\n",
    "\n",
    "class CocoaDataset(Dataset):\n",
    "    def __init__(self, df, base_path, transform=None):\n",
    "        self.df = df\n",
    "        self.base_path = base_path\n",
    "        self.transform = transform\n",
    "\n",
    "    def __len__(self):\n",
    "        return len(self.df)\n",
    "\n",
    "    def __getitem__(self, idx):\n",
    "        row = self.df.iloc[idx]\n",
    "        img_path = os.path.join(self.base_path, row['image_path'])\n",
    "        image = Image.open(img_path).convert(\"RGB\")\n",
    "        label = row['label']\n",
    "\n",
    "        if self.transform:\n",
    "            image = self.transform(image)\n",
    "\n",
    "        return image, label\n",
    "\n",
    "# Transformaciones de preprocesamiento\n",
    "transform = transforms.Compose([\n",
    "    transforms.Resize((224, 224)),\n",
    "    transforms.RandomHorizontalFlip(),\n",
    "    transforms.RandomRotation(15),\n",
    "    transforms.ToTensor(),\n",
    "    transforms.Normalize([0.5, 0.5, 0.5], [0.5, 0.5, 0.5])\n",
    "])\n",
    "\n",
    "# Directorio base donde están las imágenes\n",
    "base_path = \"C:\\\\Users\\\\melis\\\\Desktop\\\\Proyecto_Cocoa\\\\RipSetCocoaCNCH12\\\\RipSetCocoaCNCH12\\\\COCO_10\"\n",
    "\n",
    "# Crear datasets de entrenamiento, validación y prueba\n",
    "train_dataset = CocoaDataset(train_df, base_path, transform)\n",
    "val_dataset = CocoaDataset(val_df, base_path, transform)\n",
    "test_dataset = CocoaDataset(test_df, base_path, transform)\n",
    "\n",
    "# Crear DataLoaders\n",
    "batch_size = 32\n",
    "\n",
    "train_loader = DataLoader(train_dataset, batch_size=batch_size, shuffle=True)\n",
    "val_loader = DataLoader(val_dataset, batch_size=batch_size, shuffle=False)\n",
    "test_loader = DataLoader(test_dataset, batch_size=batch_size, shuffle=False)\n",
    "\n",
    "print(f\"DataLoaders listos: {len(train_loader)} batches de entrenamiento\")\n"
   ]
  },
  {
   "cell_type": "code",
   "execution_count": 23,
   "metadata": {},
   "outputs": [
    {
     "name": "stdout",
     "output_type": "stream",
     "text": [
      "Configuración lista: Capas base congeladas excepto las últimas 4 capas y fc.\n"
     ]
    }
   ],
   "source": [
    "device = torch.device(\"cuda\" if torch.cuda.is_available() else \"cpu\")\n",
    "\n",
    "# Cargar modelo preentrenado\n",
    "model = models.resnet50(weights=models.ResNet50_Weights.IMAGENET1K_V2)\n",
    "\n",
    "# Congelar todas las capas\n",
    "for param in model.parameters():\n",
    "    param.requires_grad = False\n",
    "\n",
    "# Descongelar las últimas 4 capas + capa final (fc)\n",
    "for name, param in model.named_parameters():\n",
    "    if \"layer3\" in name or \"layer4\" in name or \"fc\" in name:  \n",
    "        param.requires_grad = True\n",
    "\n",
    "# Reemplazar la última capa de clasificación\n",
    "num_ftrs = model.fc.in_features\n",
    "model.fc = nn.Linear(num_ftrs, 4)\n",
    "\n",
    "# Mover modelo a GPU si está disponible\n",
    "model = model.to(device)\n",
    "\n",
    "# Definir función de pérdida y optimizador\n",
    "criterion = nn.CrossEntropyLoss()\n",
    "optimizer = optim.Adam(filter(lambda p: p.requires_grad, model.parameters()), lr=0.0001)\n",
    "\n",
    "print(\"Configuración lista: Capas base congeladas excepto las últimas 4 capas y fc.\")\n"
   ]
  },
  {
   "cell_type": "code",
   "execution_count": 24,
   "metadata": {},
   "outputs": [],
   "source": [
    "train_df.rename(columns={\"path\": \"image_path\"}, inplace=True)\n",
    "val_df.rename(columns={\"path\": \"image_path\"}, inplace=True)\n",
    "test_df.rename(columns={\"path\": \"image_path\"}, inplace=True)\n",
    "\n"
   ]
  },
  {
   "cell_type": "code",
   "execution_count": 25,
   "metadata": {},
   "outputs": [],
   "source": [
    "train_df.rename(columns={\"class_number\": \"label\"}, inplace=True)\n",
    "val_df.rename(columns={\"class_number\": \"label\"}, inplace=True)\n",
    "test_df.rename(columns={\"class_number\": \"label\"}, inplace=True)\n"
   ]
  },
  {
   "cell_type": "code",
   "execution_count": 26,
   "metadata": {},
   "outputs": [],
   "source": [
    "train_df[\"label\"] = train_df[\"label\"] - 1\n",
    "val_df[\"label\"] = val_df[\"label\"] - 1\n",
    "test_df[\"label\"] = test_df[\"label\"] - 1\n"
   ]
  },
  {
   "cell_type": "code",
   "execution_count": 27,
   "metadata": {},
   "outputs": [
    {
     "name": "stdout",
     "output_type": "stream",
     "text": [
      "Clases corregidas: [0 1 2 3]\n"
     ]
    }
   ],
   "source": [
    "print(\"Clases corregidas:\", train_df[\"label\"].unique())  # Debe mostrar [0, 1, 2, 3]\n"
   ]
  },
  {
   "cell_type": "code",
   "execution_count": 36,
   "metadata": {},
   "outputs": [
    {
     "name": "stderr",
     "output_type": "stream",
     "text": [
      "100%|██████████| 88/88 [15:32<00:00, 10.59s/it]\n"
     ]
    },
    {
     "name": "stdout",
     "output_type": "stream",
     "text": [
      "Época 1/5 - Pérdida: 0.0697 - Precisión: 97.57% | Validación - Pérdida: 0.1633 - Precisión: 94.64%\n"
     ]
    },
    {
     "name": "stderr",
     "output_type": "stream",
     "text": [
      "100%|██████████| 88/88 [15:28<00:00, 10.55s/it]\n"
     ]
    },
    {
     "name": "stdout",
     "output_type": "stream",
     "text": [
      "Época 2/5 - Pérdida: 0.0560 - Precisión: 98.07% | Validación - Pérdida: 0.1847 - Precisión: 95.31%\n"
     ]
    },
    {
     "name": "stderr",
     "output_type": "stream",
     "text": [
      "100%|██████████| 88/88 [14:34<00:00,  9.94s/it]\n"
     ]
    },
    {
     "name": "stdout",
     "output_type": "stream",
     "text": [
      "Época 3/5 - Pérdida: 0.0613 - Precisión: 97.75% | Validación - Pérdida: 0.1525 - Precisión: 94.64%\n"
     ]
    },
    {
     "name": "stderr",
     "output_type": "stream",
     "text": [
      "100%|██████████| 88/88 [13:22<00:00,  9.11s/it]\n"
     ]
    },
    {
     "name": "stdout",
     "output_type": "stream",
     "text": [
      "Época 4/5 - Pérdida: 0.0506 - Precisión: 98.28% | Validación - Pérdida: 0.1298 - Precisión: 95.31%\n"
     ]
    },
    {
     "name": "stderr",
     "output_type": "stream",
     "text": [
      "100%|██████████| 88/88 [14:01<00:00,  9.56s/it]\n"
     ]
    },
    {
     "name": "stdout",
     "output_type": "stream",
     "text": [
      "Época 5/5 - Pérdida: 0.0356 - Precisión: 99.03% | Validación - Pérdida: 0.1502 - Precisión: 95.64%\n"
     ]
    }
   ],
   "source": [
    "num_epochs = 5\n",
    "\n",
    "train_losses = []\n",
    "val_losses = []\n",
    "train_accuracies = []\n",
    "val_accuracies = []\n",
    "\n",
    "for epoch in range(num_epochs):\n",
    "    model.train()\n",
    "    running_loss = 0.0\n",
    "    correct = 0\n",
    "    total = 0\n",
    "    \n",
    "    for images, labels in tqdm(train_loader):\n",
    "        images, labels = images.to(device), labels.to(device)\n",
    "\n",
    "        optimizer.zero_grad()\n",
    "        outputs = model(images)\n",
    "        loss = criterion(outputs, labels)\n",
    "        loss.backward()\n",
    "        optimizer.step()\n",
    "\n",
    "        running_loss += loss.item()\n",
    "        _, predicted = outputs.max(1)\n",
    "        total += labels.size(0)\n",
    "        correct += predicted.eq(labels).sum().item()\n",
    "    \n",
    "    train_loss = running_loss / len(train_loader)\n",
    "    train_acc = 100. * correct / total\n",
    "\n",
    "    train_losses.append(train_loss)\n",
    "    train_accuracies.append(train_acc)\n",
    "\n",
    "    # Evaluación en validación\n",
    "    model.eval()\n",
    "    val_loss = 0.0\n",
    "    correct_val = 0\n",
    "    total_val = 0\n",
    "\n",
    "    with torch.no_grad():\n",
    "        for images, labels in val_loader:\n",
    "            images, labels = images.to(device), labels.to(device)\n",
    "            outputs = model(images)\n",
    "            loss = criterion(outputs, labels)\n",
    "            val_loss += loss.item()\n",
    "\n",
    "            _, predicted = outputs.max(1)\n",
    "            total_val += labels.size(0)\n",
    "            correct_val += predicted.eq(labels).sum().item()\n",
    "\n",
    "    val_loss /= len(val_loader)\n",
    "    val_acc = 100. * correct_val / total_val\n",
    "\n",
    "    val_losses.append(val_loss)\n",
    "    val_accuracies.append(val_acc)\n",
    "\n",
    "    print(f\"Época {epoch+1}/{num_epochs} - Pérdida: {train_loss:.4f} - Precisión: {train_acc:.2f}% | Validación - Pérdida: {val_loss:.4f} - Precisión: {val_acc:.2f}%\")\n"
   ]
  },
  {
   "cell_type": "code",
   "execution_count": 37,
   "metadata": {},
   "outputs": [
    {
     "data": {
      "image/png": "[encoded data removed]",
      "text/plain": [
       "<Figure size 800x600 with 2 Axes>"
      ]
     },
     "metadata": {},
     "output_type": "display_data"
    },
    {
     "name": "stdout",
     "output_type": "stream",
     "text": [
      "Classification Report:\n",
      "               precision    recall  f1-score   support\n",
      "\n",
      "   images_C1       0.97      0.97      0.97       149\n",
      "   images_C2       0.91      0.97      0.94       150\n",
      "   images_C3       0.99      0.90      0.94       150\n",
      "   images_C4       0.97      1.00      0.99       148\n",
      "\n",
      "    accuracy                           0.96       597\n",
      "   macro avg       0.96      0.96      0.96       597\n",
      "weighted avg       0.96      0.96      0.96       597\n",
      "\n"
     ]
    }
   ],
   "source": [
    "import numpy as np\n",
    "import matplotlib.pyplot as plt\n",
    "import seaborn as sns\n",
    "from sklearn.metrics import confusion_matrix, classification_report\n",
    "import torch\n",
    "\n",
    "device = torch.device(\"cuda\" if torch.cuda.is_available() else \"cpu\")\n",
    "\n",
    "# Función para evaluar el modelo\n",
    "def evaluate_model(model, dataloader, class_names):\n",
    "    model.eval()  # Modo evaluación\n",
    "    y_true = []\n",
    "    y_pred = []\n",
    "\n",
    "    with torch.no_grad():\n",
    "        for images, labels in dataloader:\n",
    "            images, labels = images.to(device), labels.to(device)\n",
    "            outputs = model(images)\n",
    "            _, preds = torch.max(outputs, 1)\n",
    "\n",
    "            y_true.extend(labels.cpu().numpy())\n",
    "            y_pred.extend(preds.cpu().numpy())\n",
    "\n",
    "    # Matriz de confusión\n",
    "    cm = confusion_matrix(y_true, y_pred)\n",
    "    plt.figure(figsize=(8, 6))\n",
    "    sns.heatmap(cm, annot=True, fmt=\"d\", cmap=\"Blues\", xticklabels=class_names, yticklabels=class_names)\n",
    "    plt.xlabel(\"Etiqueta Predicha\")\n",
    "    plt.ylabel(\"Etiqueta Real\")\n",
    "    plt.title(\"Matriz de Confusión\")\n",
    "    plt.show()\n",
    "\n",
    "    # Reporte de clasificación con precisión, recall y F1-score\n",
    "    report = classification_report(y_true, y_pred, target_names=class_names)\n",
    "    print(\"Classification Report:\\n\", report)\n",
    "\n",
    "# Definir nombres de clases según tu problema\n",
    "class_names = [\"images_C1\", \"images_C2\", \"images_C3\", \"images_C4\"]  # Ajusta según tus clases reales\n",
    "\n",
    "# Evaluar el modelo\n",
    "evaluate_model(model, val_loader, class_names)\n"
   ]
  },
  {
   "cell_type": "code",
   "execution_count": 38,
   "metadata": {},
   "outputs": [
    {
     "data": {
      "image/png": "[encoded data removed]",
      "text/plain": [
       "<Figure size 1200x500 with 2 Axes>"
      ]
     },
     "metadata": {},
     "output_type": "display_data"
    }
   ],
   "source": [
    "import matplotlib.pyplot as plt\n",
    "\n",
    "epochs = range(1, len(train_losses) + 1)\n",
    "\n",
    "plt.figure(figsize=(12, 5))\n",
    "\n",
    "# Gráfica de pérdida\n",
    "plt.subplot(1, 2, 1)\n",
    "plt.plot(epochs, train_losses, label=\"Train Loss\")\n",
    "plt.plot(epochs, val_losses, label=\"Validation Loss\")\n",
    "plt.xlabel(\"Épocas\")\n",
    "plt.ylabel(\"Pérdida\")\n",
    "plt.title(\"Pérdida en Entrenamiento y Validación\")\n",
    "plt.legend()\n",
    "\n",
    "# Gráfica de precisión\n",
    "plt.subplot(1, 2, 2)\n",
    "plt.plot(epochs, train_accuracies, label=\"Train Accuracy\")\n",
    "plt.plot(epochs, val_accuracies, label=\"Validation Accuracy\")\n",
    "plt.xlabel(\"Épocas\")\n",
    "plt.ylabel(\"Precisión (%)\")\n",
    "plt.title(\"Precisión en Entrenamiento y Validación\")\n",
    "plt.legend()\n",
    "\n",
    "plt.show()\n"
   ]
  },
  {
   "cell_type": "code",
   "execution_count": 39,
   "metadata": {},
   "outputs": [
    {
     "name": "stdout",
     "output_type": "stream",
     "text": [
      "Modelo guardado con las últimas 4 capas entrenadas.\n"
     ]
    }
   ],
   "source": [
    "torch.save(model.state_dict(), \"modelo_cacao_resnet50_finetuned_1.pth\")\n",
    "print(\"Modelo guardado con las últimas 4 capas entrenadas.\")"
   ]
  },
  {
   "cell_type": "code",
   "execution_count": null,
   "metadata": {},
   "outputs": [],
   "source": []
  }
 ],
 "metadata": {
  "kernelspec": {
   "display_name": "base",
   "language": "python",
   "name": "python3"
  },
  "language_info": {
   "codemirror_mode": {
    "name": "ipython",
    "version": 3
   },
   "file_extension": ".py",
   "mimetype": "text/x-python",
   "name": "python",
   "nbconvert_exporter": "python",
   "pygments_lexer": "ipython3",
   "version": "3.11.5"
  }
 },
 "nbformat": 4,
 "nbformat_minor": 2
}
